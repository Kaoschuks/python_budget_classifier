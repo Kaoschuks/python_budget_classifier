{
 "cells": [
  {
   "cell_type": "code",
   "execution_count": 2,
   "metadata": {},
   "outputs": [],
   "source": [
    "import gspread\n",
    "from oauth2client.service_account import ServiceAccountCredentials\n",
    "\n",
    "# use creds to create a client to interact with the Google Drive API\n",
    "scope = ['https://spreadsheets.google.com/feeds']\n",
    "creds = ServiceAccountCredentials.from_json_keyfile_name('google_account.json', scope)\n",
    "client = gspread.authorize(creds)\n",
    "\n",
    "# Find a workbook by name and open the first sheet\n",
    "# Make sure you use the right name here.\n",
    "temp = client.open(\"rolands budgetvariant\")\n"
   ]
  },
  {
   "cell_type": "code",
   "execution_count": 3,
   "metadata": {},
   "outputs": [
    {
     "name": "stdout",
     "output_type": "stream",
     "text": [
      "<Spreadsheet 'rolands budgetvariant' id:1id3-2Gcwh4ENskVG6pVTTkTeKHjWcqExfsQ7Oh4hIO4>\n",
      "[<Worksheet 'Sheet1' id:od6>, <Worksheet 'november 2017' id:owor8xu>, <Worksheet 'ALLES' id:ov01ozr>, <Worksheet 'NL94INGB0703873202_05-12-2014_09-12-2017' id:oy9fdfi>]\n"
     ]
    }
   ],
   "source": [
    "print(temp)\n",
    "dir(temp)\n",
    "print(temp.worksheets())\n",
    "sheet = temp.worksheet(\"ALLES\")"
   ]
  },
  {
   "cell_type": "code",
   "execution_count": null,
   "metadata": {
    "collapsed": true
   },
   "outputs": [],
   "source": []
  },
  {
   "cell_type": "code",
   "execution_count": 5,
   "metadata": {},
   "outputs": [],
   "source": [
    "import nltk\n",
    "def get_freq_dist_for_sheet(sheet, key, max_words=30):\n",
    "    records = sheet.get_all_records()\n",
    "    words = list()\n",
    "    for record in records:\n",
    "        words.extend(w.lower() for w in record[key].split())\n",
    "    \n",
    "    all_words = nltk.FreqDist(words)\n",
    "    word_features = list(all_words)[:max_words]\n",
    "    return word_features\n",
    "\n",
    "interesting_features = [\"Naam / Omschrijving\", \"Tegenrekening\", \"Af Bij\", \"Mededelingen\"]\n",
    "freq_dists = dict()\n",
    "for feature in interesting_features:\n",
    "    freq_dists[feature] = get_freq_dist_for_sheet(sheet, feature)\n"
   ]
  },
  {
   "cell_type": "code",
   "execution_count": 7,
   "metadata": {
    "collapsed": true
   },
   "outputs": [],
   "source": [
    "def record_features(record, key, doc_features): \n",
    "    document_words = set(w.lower() for w in record[key].split()) \n",
    "    features = {}\n",
    "    for word in doc_features:\n",
    "        features['contains({},{})'.format(key,word)] = (word in document_words)\n",
    "    return features\n",
    "\n",
    "def all_record_features(record):\n",
    "    input_data = dict()\n",
    "    for categorie_name in freq_dists:\n",
    "        ## dict.update means that you merge dictionaries\n",
    "        input_data.update(record_features(record, categorie_name, freq_dists[categorie_name]))\n",
    "    return input_data\n",
    "\n",
    "def get_traindata(sheet):\n",
    "    records = sheet.get_all_records()\n",
    "    traindata = list()\n",
    "    for record in records:\n",
    "        if record[\"Categorie\"]:\n",
    "            input_data = all_record_features(record)\n",
    "            traindata.append((input_data, record[\"Categorie\"]))\n",
    "    return traindata\n"
   ]
  },
  {
   "cell_type": "code",
   "execution_count": null,
   "metadata": {
    "collapsed": true
   },
   "outputs": [],
   "source": []
  },
  {
   "cell_type": "code",
   "execution_count": 8,
   "metadata": {},
   "outputs": [
    {
     "name": "stdout",
     "output_type": "stream",
     "text": [
      "{'parkeren', 'electriciteit', 'internet', 'huur', 'water', 'wegenbelasting', 'verzekering auto', 'inleg lisette', 'overig', 'openbaar vervoer', 'abonnementen', 'benzine', 'boodschappen', 'reizen', 'goede doelen', 'zorgverzekering roland', 'waterschapsbelasting', 'tanken', 'sport', 'uit eten', 'cash', 'verzekering roland', 'inleg roland', 'sport lisette', 'auto'}\n"
     ]
    }
   ],
   "source": [
    "client = gspread.authorize(creds)\n",
    "temp = client.open(\"rolands budgetvariant\")\n",
    "sheet = temp.worksheet(\"ALLES\")\n",
    "\n",
    "a = get_traindata(sheet)\n",
    "all_labels = set([x[1] for x in a])\n",
    "print(all_labels)\n"
   ]
  },
  {
   "cell_type": "code",
   "execution_count": 32,
   "metadata": {},
   "outputs": [
    {
     "name": "stdout",
     "output_type": "stream",
     "text": [
      "Training with 365 entries\n",
      "<SklearnClassifier(DecisionTreeClassifier(class_weight=None, criterion='gini', max_depth=None,\n",
      "            max_features=None, max_leaf_nodes=None,\n",
      "            min_impurity_split=1e-07, min_samples_leaf=1,\n",
      "            min_samples_split=2, min_weight_fraction_leaf=0.0,\n",
      "            presort=False, random_state=None, splitter='best'))>\n"
     ]
    },
    {
     "ename": "RequestError",
     "evalue": "(401, '401: b\\'<HTML>\\\\n<HEAD>\\\\n<TITLE>Unauthorized</TITLE>\\\\n</HEAD>\\\\n<BODY BGCOLOR=\"#FFFFFF\" TEXT=\"#000000\">\\\\n<H1>Unauthorized</H1>\\\\n<H2>Error 401</H2>\\\\n</BODY>\\\\n</HTML>\\\\n\\'')",
     "output_type": "error",
     "traceback": [
      "\u001b[0;31m---------------------------------------------------------------------------\u001b[0m",
      "\u001b[0;31mRequestError\u001b[0m                              Traceback (most recent call last)",
      "\u001b[0;32m<ipython-input-32-40bcd5ec7d6d>\u001b[0m in \u001b[0;36m<module>\u001b[0;34m()\u001b[0m\n\u001b[1;32m     10\u001b[0m \u001b[0;34m\u001b[0m\u001b[0m\n\u001b[1;32m     11\u001b[0m \u001b[0mprint\u001b[0m\u001b[0;34m(\u001b[0m\u001b[0mclassifier\u001b[0m\u001b[0;34m)\u001b[0m\u001b[0;34m\u001b[0m\u001b[0m\n\u001b[0;32m---> 12\u001b[0;31m \u001b[0mrecords\u001b[0m \u001b[0;34m=\u001b[0m \u001b[0msheet\u001b[0m\u001b[0;34m.\u001b[0m\u001b[0mget_all_records\u001b[0m\u001b[0;34m(\u001b[0m\u001b[0;34m)\u001b[0m\u001b[0;34m\u001b[0m\u001b[0m\n\u001b[0m\u001b[1;32m     13\u001b[0m \u001b[0;34m\u001b[0m\u001b[0m\n\u001b[1;32m     14\u001b[0m \u001b[0;32mfor\u001b[0m \u001b[0mrow\u001b[0m\u001b[0;34m,\u001b[0m \u001b[0mrecord\u001b[0m \u001b[0;32min\u001b[0m \u001b[0menumerate\u001b[0m\u001b[0;34m(\u001b[0m\u001b[0mrecords\u001b[0m\u001b[0;34m)\u001b[0m\u001b[0;34m:\u001b[0m\u001b[0;34m\u001b[0m\u001b[0m\n",
      "\u001b[0;32m/Library/Frameworks/Python.framework/Versions/3.6/lib/python3.6/site-packages/gspread/models.py\u001b[0m in \u001b[0;36mget_all_records\u001b[0;34m(self, empty2zero, head, default_blank)\u001b[0m\n\u001b[1;32m    455\u001b[0m         \u001b[0midx\u001b[0m \u001b[0;34m=\u001b[0m \u001b[0mhead\u001b[0m \u001b[0;34m-\u001b[0m \u001b[0;36m1\u001b[0m\u001b[0;34m\u001b[0m\u001b[0m\n\u001b[1;32m    456\u001b[0m \u001b[0;34m\u001b[0m\u001b[0m\n\u001b[0;32m--> 457\u001b[0;31m         \u001b[0mdata\u001b[0m \u001b[0;34m=\u001b[0m \u001b[0mself\u001b[0m\u001b[0;34m.\u001b[0m\u001b[0mget_all_values\u001b[0m\u001b[0;34m(\u001b[0m\u001b[0;34m)\u001b[0m\u001b[0;34m\u001b[0m\u001b[0m\n\u001b[0m\u001b[1;32m    458\u001b[0m         \u001b[0mkeys\u001b[0m \u001b[0;34m=\u001b[0m \u001b[0mdata\u001b[0m\u001b[0;34m[\u001b[0m\u001b[0midx\u001b[0m\u001b[0;34m]\u001b[0m\u001b[0;34m\u001b[0m\u001b[0m\n\u001b[1;32m    459\u001b[0m         values = [numericise_all(row, empty2zero, default_blank)\n",
      "\u001b[0;32m/Library/Frameworks/Python.framework/Versions/3.6/lib/python3.6/site-packages/gspread/models.py\u001b[0m in \u001b[0;36mget_all_values\u001b[0;34m(self)\u001b[0m\n\u001b[1;32m    417\u001b[0m         \"\"\"Returns a list of lists containing all cells' values as strings.\n\u001b[1;32m    418\u001b[0m         \"\"\"\n\u001b[0;32m--> 419\u001b[0;31m         \u001b[0mcells\u001b[0m \u001b[0;34m=\u001b[0m \u001b[0mself\u001b[0m\u001b[0;34m.\u001b[0m\u001b[0m_fetch_cells\u001b[0m\u001b[0;34m(\u001b[0m\u001b[0;34m)\u001b[0m\u001b[0;34m\u001b[0m\u001b[0m\n\u001b[0m\u001b[1;32m    420\u001b[0m \u001b[0;34m\u001b[0m\u001b[0m\n\u001b[1;32m    421\u001b[0m         \u001b[0;31m# defaultdicts fill in gaps for empty rows/cells not returned by gdocs\u001b[0m\u001b[0;34m\u001b[0m\u001b[0;34m\u001b[0m\u001b[0m\n",
      "\u001b[0;32m/Library/Frameworks/Python.framework/Versions/3.6/lib/python3.6/site-packages/gspread/models.py\u001b[0m in \u001b[0;36m_fetch_cells\u001b[0;34m(self)\u001b[0m\n\u001b[1;32m    329\u001b[0m \u001b[0;34m\u001b[0m\u001b[0m\n\u001b[1;32m    330\u001b[0m     \u001b[0;32mdef\u001b[0m \u001b[0m_fetch_cells\u001b[0m\u001b[0;34m(\u001b[0m\u001b[0mself\u001b[0m\u001b[0;34m)\u001b[0m\u001b[0;34m:\u001b[0m\u001b[0;34m\u001b[0m\u001b[0m\n\u001b[0;32m--> 331\u001b[0;31m         \u001b[0mfeed\u001b[0m \u001b[0;34m=\u001b[0m \u001b[0mself\u001b[0m\u001b[0;34m.\u001b[0m\u001b[0mclient\u001b[0m\u001b[0;34m.\u001b[0m\u001b[0mget_cells_feed\u001b[0m\u001b[0;34m(\u001b[0m\u001b[0mself\u001b[0m\u001b[0;34m)\u001b[0m\u001b[0;34m\u001b[0m\u001b[0m\n\u001b[0m\u001b[1;32m    332\u001b[0m         \u001b[0;32mreturn\u001b[0m \u001b[0;34m[\u001b[0m\u001b[0mCell\u001b[0m\u001b[0;34m(\u001b[0m\u001b[0mself\u001b[0m\u001b[0;34m,\u001b[0m \u001b[0melem\u001b[0m\u001b[0;34m)\u001b[0m \u001b[0;32mfor\u001b[0m \u001b[0melem\u001b[0m \u001b[0;32min\u001b[0m \u001b[0mfeed\u001b[0m\u001b[0;34m.\u001b[0m\u001b[0mfindall\u001b[0m\u001b[0;34m(\u001b[0m\u001b[0m_ns\u001b[0m\u001b[0;34m(\u001b[0m\u001b[0;34m'entry'\u001b[0m\u001b[0;34m)\u001b[0m\u001b[0;34m)\u001b[0m\u001b[0;34m]\u001b[0m\u001b[0;34m\u001b[0m\u001b[0m\n\u001b[1;32m    333\u001b[0m \u001b[0;34m\u001b[0m\u001b[0m\n",
      "\u001b[0;32m/Library/Frameworks/Python.framework/Versions/3.6/lib/python3.6/site-packages/gspread/client.py\u001b[0m in \u001b[0;36mget_cells_feed\u001b[0;34m(self, worksheet, visibility, projection, params)\u001b[0m\n\u001b[1;32m    174\u001b[0m             \u001b[0murl\u001b[0m \u001b[0;34m=\u001b[0m \u001b[0;34m'%s?%s'\u001b[0m \u001b[0;34m%\u001b[0m \u001b[0;34m(\u001b[0m\u001b[0murl\u001b[0m\u001b[0;34m,\u001b[0m \u001b[0mparams\u001b[0m\u001b[0;34m)\u001b[0m\u001b[0;34m\u001b[0m\u001b[0m\n\u001b[1;32m    175\u001b[0m \u001b[0;34m\u001b[0m\u001b[0m\n\u001b[0;32m--> 176\u001b[0;31m         \u001b[0mr\u001b[0m \u001b[0;34m=\u001b[0m \u001b[0mself\u001b[0m\u001b[0;34m.\u001b[0m\u001b[0msession\u001b[0m\u001b[0;34m.\u001b[0m\u001b[0mget\u001b[0m\u001b[0;34m(\u001b[0m\u001b[0murl\u001b[0m\u001b[0;34m)\u001b[0m\u001b[0;34m\u001b[0m\u001b[0m\n\u001b[0m\u001b[1;32m    177\u001b[0m         \u001b[0;32mreturn\u001b[0m \u001b[0mElementTree\u001b[0m\u001b[0;34m.\u001b[0m\u001b[0mfromstring\u001b[0m\u001b[0;34m(\u001b[0m\u001b[0mr\u001b[0m\u001b[0;34m.\u001b[0m\u001b[0mcontent\u001b[0m\u001b[0;34m)\u001b[0m\u001b[0;34m\u001b[0m\u001b[0m\n\u001b[1;32m    178\u001b[0m \u001b[0;34m\u001b[0m\u001b[0m\n",
      "\u001b[0;32m/Library/Frameworks/Python.framework/Versions/3.6/lib/python3.6/site-packages/gspread/httpsession.py\u001b[0m in \u001b[0;36mget\u001b[0;34m(self, url, params, **kwargs)\u001b[0m\n\u001b[1;32m     71\u001b[0m \u001b[0;34m\u001b[0m\u001b[0m\n\u001b[1;32m     72\u001b[0m     \u001b[0;32mdef\u001b[0m \u001b[0mget\u001b[0m\u001b[0;34m(\u001b[0m\u001b[0mself\u001b[0m\u001b[0;34m,\u001b[0m \u001b[0murl\u001b[0m\u001b[0;34m,\u001b[0m \u001b[0mparams\u001b[0m\u001b[0;34m=\u001b[0m\u001b[0;32mNone\u001b[0m\u001b[0;34m,\u001b[0m \u001b[0;34m**\u001b[0m\u001b[0mkwargs\u001b[0m\u001b[0;34m)\u001b[0m\u001b[0;34m:\u001b[0m\u001b[0;34m\u001b[0m\u001b[0m\n\u001b[0;32m---> 73\u001b[0;31m         \u001b[0;32mreturn\u001b[0m \u001b[0mself\u001b[0m\u001b[0;34m.\u001b[0m\u001b[0mrequest\u001b[0m\u001b[0;34m(\u001b[0m\u001b[0;34m'GET'\u001b[0m\u001b[0;34m,\u001b[0m \u001b[0murl\u001b[0m\u001b[0;34m,\u001b[0m \u001b[0mparams\u001b[0m\u001b[0;34m=\u001b[0m\u001b[0mparams\u001b[0m\u001b[0;34m,\u001b[0m \u001b[0;34m**\u001b[0m\u001b[0mkwargs\u001b[0m\u001b[0;34m)\u001b[0m\u001b[0;34m\u001b[0m\u001b[0m\n\u001b[0m\u001b[1;32m     74\u001b[0m \u001b[0;34m\u001b[0m\u001b[0m\n\u001b[1;32m     75\u001b[0m     \u001b[0;32mdef\u001b[0m \u001b[0mdelete\u001b[0m\u001b[0;34m(\u001b[0m\u001b[0mself\u001b[0m\u001b[0;34m,\u001b[0m \u001b[0murl\u001b[0m\u001b[0;34m,\u001b[0m \u001b[0mparams\u001b[0m\u001b[0;34m=\u001b[0m\u001b[0;32mNone\u001b[0m\u001b[0;34m,\u001b[0m \u001b[0;34m**\u001b[0m\u001b[0mkwargs\u001b[0m\u001b[0;34m)\u001b[0m\u001b[0;34m:\u001b[0m\u001b[0;34m\u001b[0m\u001b[0m\n",
      "\u001b[0;32m/Library/Frameworks/Python.framework/Versions/3.6/lib/python3.6/site-packages/gspread/httpsession.py\u001b[0m in \u001b[0;36mrequest\u001b[0;34m(self, method, url, data, params, headers, files, json)\u001b[0m\n\u001b[1;32m     67\u001b[0m         \u001b[0;32mif\u001b[0m \u001b[0mresponse\u001b[0m\u001b[0;34m.\u001b[0m\u001b[0mstatus_code\u001b[0m \u001b[0;34m>\u001b[0m \u001b[0;36m399\u001b[0m\u001b[0;34m:\u001b[0m\u001b[0;34m\u001b[0m\u001b[0m\n\u001b[1;32m     68\u001b[0m             raise RequestError(response.status_code, \"{0}: {1}\".format(\n\u001b[0;32m---> 69\u001b[0;31m                 response.status_code, response.content))\n\u001b[0m\u001b[1;32m     70\u001b[0m         \u001b[0;32mreturn\u001b[0m \u001b[0mresponse\u001b[0m\u001b[0;34m\u001b[0m\u001b[0m\n\u001b[1;32m     71\u001b[0m \u001b[0;34m\u001b[0m\u001b[0m\n",
      "\u001b[0;31mRequestError\u001b[0m: (401, '401: b\\'<HTML>\\\\n<HEAD>\\\\n<TITLE>Unauthorized</TITLE>\\\\n</HEAD>\\\\n<BODY BGCOLOR=\"#FFFFFF\" TEXT=\"#000000\">\\\\n<H1>Unauthorized</H1>\\\\n<H2>Error 401</H2>\\\\n</BODY>\\\\n</HTML>\\\\n\\'')"
     ]
    }
   ],
   "source": [
    "                 \n",
    "print(\"Training with \" + str(len(a)) + \" entries\")\n",
    "#classifier = nltk.NaiveBayesClassifier.train(a)\n",
    "# classifier = nltk.classify.DecisionTreeClassifier.train(a)\n",
    "from nltk.classify import SklearnClassifier\n",
    "from sklearn.svm import SVC\n",
    "from sklearn import tree\n",
    "\n",
    "classifier = SklearnClassifier(tree.DecisionTreeClassifier(), sparse=False).train(a)\n",
    "\n",
    "print(classifier)\n",
    "records = sheet.get_all_records()\n",
    "\n",
    "for row, record in enumerate(records):\n",
    "    try:\n",
    "        row += 2 # rows start at 1... first row is a header\n",
    "        input_data = all_record_features(record)\n",
    "        but = classifier.classify(input_data)\n",
    "        if but != record[\"Computer guessed\"]:\n",
    "            sheet.update_cell(row, 11, but)\n",
    "    except Exception as e:\n",
    "        print(\"Exception at row \" + str(row))"
   ]
  },
  {
   "cell_type": "markdown",
   "metadata": {},
   "source": [
    "# Print that stuff!"
   ]
  },
  {
   "cell_type": "code",
   "execution_count": 37,
   "metadata": {},
   "outputs": [
    {
     "data": {
      "text/plain": [
       "'budget_decisiontree.pdf'"
      ]
     },
     "execution_count": 37,
     "metadata": {},
     "output_type": "execute_result"
    }
   ],
   "source": [
    "import graphviz \n",
    "\n",
    "dot_data = tree.export_graphviz(classifier._clf, out_file=None, \n",
    "                         feature_names=classifier._vectorizer.get_feature_names(),  \n",
    "                         class_names=classifier.labels(),  \n",
    "                         filled=True, rounded=True,  \n",
    "                         special_characters=True)\n",
    "graph = graphviz.Source(dot_data) \n",
    "graph.render(\"budget_decisiontree\") \n"
   ]
  },
  {
   "cell_type": "code",
   "execution_count": 24,
   "metadata": {},
   "outputs": [
    {
     "name": "stdout",
     "output_type": "stream",
     "text": [
      "Changing {'Datum': 20171023, 'Naam / Omschrijving': 'Belastingdienst', 'Rekening': 'NL94INGB0703873202', 'Tegenrekening': 'NL86INGB0002445588', 'Code': 'GT', 'Af Bij': 'Af', 'Bedrag (EUR)': '74,00', 'MutatieSoort': 'Online bankieren', 'Mededelingen': 'Naam: Belastingdienst Omschrijving: 7204002487870004 IBAN: NL86INGB0002445588', 'Categorie': 'auto', 'Computer guessed': 'auto'} to: wegenbelasting\n",
      "Changing {'Datum': 20170807, 'Naam / Omschrijving': 'MW K J F Boere', 'Rekening': 'NL94INGB0703873202', 'Tegenrekening': 'NL45INGB0009039222', 'Code': 'GT', 'Af Bij': 'Bij', 'Bedrag (EUR)': '10,00', 'MutatieSoort': 'Online bankieren', 'Mededelingen': 'Naam: MW K J F Boere Omschrijving: buurt bbq brouwersgracht IBAN: NL45INGB0009039222', 'Categorie': 'uit eten', 'Computer guessed': 'boodschappen'} to: uit eten\n",
      "Changing {'Datum': 20170717, 'Naam / Omschrijving': 'Belastingdienst', 'Rekening': 'NL94INGB0703873202', 'Tegenrekening': 'NL86INGB0002445588', 'Code': 'GT', 'Af Bij': 'Af', 'Bedrag (EUR)': '74,00', 'MutatieSoort': 'Online bankieren', 'Mededelingen': 'Naam: Belastingdienst Omschrijving: 9204002487870003 IBAN: NL86INGB0002445588', 'Categorie': 'wegenbelasting', 'Computer guessed': 'auto'} to: wegenbelasting\n",
      "Changing {'Datum': 20170710, 'Naam / Omschrijving': 'Belastingdienst', 'Rekening': 'NL94INGB0703873202', 'Tegenrekening': 'NL86INGB0002445588', 'Code': 'GT', 'Af Bij': 'Af', 'Bedrag (EUR)': '74,00', 'MutatieSoort': 'Online bankieren', 'Mededelingen': 'Naam: Belastingdienst Omschrijving: 9204002487670001 IBAN: NL86INGB0002445588', 'Categorie': 'wegenbelasting', 'Computer guessed': 'auto'} to: wegenbelasting\n",
      "Changing {'Datum': 20170124, 'Naam / Omschrijving': 'Belastingdienst', 'Rekening': 'NL94INGB0703873202', 'Tegenrekening': 'NL86INGB0002445588', 'Code': 'GT', 'Af Bij': 'Af', 'Bedrag (EUR)': '74,00', 'MutatieSoort': 'Online bankieren', 'Mededelingen': 'Naam: Belastingdienst Omschrijving: 2204002487870001 IBAN: NL86INGB0002445588', 'Categorie': '', 'Computer guessed': 'auto'} to: wegenbelasting\n",
      "Changing {'Datum': 20161017, 'Naam / Omschrijving': 'Belastingdienst', 'Rekening': 'NL94INGB0703873202', 'Tegenrekening': 'NL86INGB0002445588', 'Code': 'GT', 'Af Bij': 'Af', 'Bedrag (EUR)': '82,00', 'MutatieSoort': 'Online bankieren', 'Mededelingen': 'Naam: Belastingdienst Omschrijving: 1204002487860002 IBAN: NL86INGB0002445588', 'Categorie': '', 'Computer guessed': 'auto'} to: wegenbelasting\n",
      "Changing {'Datum': 20160926, 'Naam / Omschrijving': 'Belastingdienst', 'Rekening': 'NL94INGB0703873202', 'Tegenrekening': 'NL86INGB0002445588', 'Code': 'GT', 'Af Bij': 'Af', 'Bedrag (EUR)': '36,00', 'MutatieSoort': 'Online bankieren', 'Mededelingen': 'Naam: Belastingdienst Omschrijving: 1204002487860001 IBAN: NL86INGB0002445588', 'Categorie': '', 'Computer guessed': 'auto'} to: wegenbelasting\n"
     ]
    }
   ],
   "source": [
    "from nltk.classify import SklearnClassifier\n",
    "from sklearn.naive_bayes import BernoulliNB\n",
    "from sklearn.svm import SVC\n",
    "\n",
    "classif = SklearnClassifier(BernoulliNB()).train(a)\n",
    "for row, record in enumerate(records):\n",
    "    try:\n",
    "        row += 2 # rows start at 1... first row is a header\n",
    "        input_data = all_record_features(record)\n",
    "        but = classifier.classify(input_data)\n",
    "        if but != record[\"Computer guessed\"]:\n",
    "            print(\"Changing \" + str(record) + \" to: \" + but)\n",
    "            sheet.update_cell(row, 11, but)\n",
    "    except Exception as e:\n",
    "        print(\"Exception at row \" + str(row))"
   ]
  },
  {
   "cell_type": "code",
   "execution_count": 14,
   "metadata": {},
   "outputs": [
    {
     "ename": "TypeError",
     "evalue": "float() argument must be a string or a number, not 'dict'",
     "output_type": "error",
     "traceback": [
      "\u001b[0;31m---------------------------------------------------------------------------\u001b[0m",
      "\u001b[0;31mTypeError\u001b[0m                                 Traceback (most recent call last)",
      "\u001b[0;32m<ipython-input-14-db550460b7a3>\u001b[0m in \u001b[0;36m<module>\u001b[0;34m()\u001b[0m\n\u001b[1;32m      3\u001b[0m \u001b[0mXtrain\u001b[0m \u001b[0;34m=\u001b[0m \u001b[0;34m[\u001b[0m\u001b[0mx\u001b[0m\u001b[0;34m[\u001b[0m\u001b[0;36m0\u001b[0m\u001b[0;34m]\u001b[0m \u001b[0;32mfor\u001b[0m \u001b[0mx\u001b[0m \u001b[0;32min\u001b[0m \u001b[0ma\u001b[0m\u001b[0;34m]\u001b[0m\u001b[0;34m\u001b[0m\u001b[0m\n\u001b[1;32m      4\u001b[0m \u001b[0mYtrain\u001b[0m \u001b[0;34m=\u001b[0m \u001b[0;34m[\u001b[0m\u001b[0mx\u001b[0m\u001b[0;34m[\u001b[0m\u001b[0;36m1\u001b[0m\u001b[0;34m]\u001b[0m \u001b[0;32mfor\u001b[0m \u001b[0mx\u001b[0m \u001b[0;32min\u001b[0m \u001b[0ma\u001b[0m\u001b[0;34m]\u001b[0m\u001b[0;34m\u001b[0m\u001b[0m\n\u001b[0;32m----> 5\u001b[0;31m \u001b[0mtree\u001b[0m\u001b[0;34m.\u001b[0m\u001b[0mfit\u001b[0m\u001b[0;34m(\u001b[0m\u001b[0mXtrain\u001b[0m\u001b[0;34m,\u001b[0m \u001b[0mYtrain\u001b[0m\u001b[0;34m)\u001b[0m\u001b[0;34m\u001b[0m\u001b[0m\n\u001b[0m",
      "\u001b[0;32m/Library/Frameworks/Python.framework/Versions/3.6/lib/python3.6/site-packages/sklearn/tree/tree.py\u001b[0m in \u001b[0;36mfit\u001b[0;34m(self, X, y, sample_weight, check_input, X_idx_sorted)\u001b[0m\n\u001b[1;32m    737\u001b[0m             \u001b[0msample_weight\u001b[0m\u001b[0;34m=\u001b[0m\u001b[0msample_weight\u001b[0m\u001b[0;34m,\u001b[0m\u001b[0;34m\u001b[0m\u001b[0m\n\u001b[1;32m    738\u001b[0m             \u001b[0mcheck_input\u001b[0m\u001b[0;34m=\u001b[0m\u001b[0mcheck_input\u001b[0m\u001b[0;34m,\u001b[0m\u001b[0;34m\u001b[0m\u001b[0m\n\u001b[0;32m--> 739\u001b[0;31m             X_idx_sorted=X_idx_sorted)\n\u001b[0m\u001b[1;32m    740\u001b[0m         \u001b[0;32mreturn\u001b[0m \u001b[0mself\u001b[0m\u001b[0;34m\u001b[0m\u001b[0m\n\u001b[1;32m    741\u001b[0m \u001b[0;34m\u001b[0m\u001b[0m\n",
      "\u001b[0;32m/Library/Frameworks/Python.framework/Versions/3.6/lib/python3.6/site-packages/sklearn/tree/tree.py\u001b[0m in \u001b[0;36mfit\u001b[0;34m(self, X, y, sample_weight, check_input, X_idx_sorted)\u001b[0m\n\u001b[1;32m    120\u001b[0m         \u001b[0mrandom_state\u001b[0m \u001b[0;34m=\u001b[0m \u001b[0mcheck_random_state\u001b[0m\u001b[0;34m(\u001b[0m\u001b[0mself\u001b[0m\u001b[0;34m.\u001b[0m\u001b[0mrandom_state\u001b[0m\u001b[0;34m)\u001b[0m\u001b[0;34m\u001b[0m\u001b[0m\n\u001b[1;32m    121\u001b[0m         \u001b[0;32mif\u001b[0m \u001b[0mcheck_input\u001b[0m\u001b[0;34m:\u001b[0m\u001b[0;34m\u001b[0m\u001b[0m\n\u001b[0;32m--> 122\u001b[0;31m             \u001b[0mX\u001b[0m \u001b[0;34m=\u001b[0m \u001b[0mcheck_array\u001b[0m\u001b[0;34m(\u001b[0m\u001b[0mX\u001b[0m\u001b[0;34m,\u001b[0m \u001b[0mdtype\u001b[0m\u001b[0;34m=\u001b[0m\u001b[0mDTYPE\u001b[0m\u001b[0;34m,\u001b[0m \u001b[0maccept_sparse\u001b[0m\u001b[0;34m=\u001b[0m\u001b[0;34m\"csc\"\u001b[0m\u001b[0;34m)\u001b[0m\u001b[0;34m\u001b[0m\u001b[0m\n\u001b[0m\u001b[1;32m    123\u001b[0m             \u001b[0my\u001b[0m \u001b[0;34m=\u001b[0m \u001b[0mcheck_array\u001b[0m\u001b[0;34m(\u001b[0m\u001b[0my\u001b[0m\u001b[0;34m,\u001b[0m \u001b[0mensure_2d\u001b[0m\u001b[0;34m=\u001b[0m\u001b[0;32mFalse\u001b[0m\u001b[0;34m,\u001b[0m \u001b[0mdtype\u001b[0m\u001b[0;34m=\u001b[0m\u001b[0;32mNone\u001b[0m\u001b[0;34m)\u001b[0m\u001b[0;34m\u001b[0m\u001b[0m\n\u001b[1;32m    124\u001b[0m             \u001b[0;32mif\u001b[0m \u001b[0missparse\u001b[0m\u001b[0;34m(\u001b[0m\u001b[0mX\u001b[0m\u001b[0;34m)\u001b[0m\u001b[0;34m:\u001b[0m\u001b[0;34m\u001b[0m\u001b[0m\n",
      "\u001b[0;32m/Library/Frameworks/Python.framework/Versions/3.6/lib/python3.6/site-packages/sklearn/utils/validation.py\u001b[0m in \u001b[0;36mcheck_array\u001b[0;34m(array, accept_sparse, dtype, order, copy, force_all_finite, ensure_2d, allow_nd, ensure_min_samples, ensure_min_features, warn_on_dtype, estimator)\u001b[0m\n\u001b[1;32m    380\u001b[0m                                       force_all_finite)\n\u001b[1;32m    381\u001b[0m     \u001b[0;32melse\u001b[0m\u001b[0;34m:\u001b[0m\u001b[0;34m\u001b[0m\u001b[0m\n\u001b[0;32m--> 382\u001b[0;31m         \u001b[0marray\u001b[0m \u001b[0;34m=\u001b[0m \u001b[0mnp\u001b[0m\u001b[0;34m.\u001b[0m\u001b[0marray\u001b[0m\u001b[0;34m(\u001b[0m\u001b[0marray\u001b[0m\u001b[0;34m,\u001b[0m \u001b[0mdtype\u001b[0m\u001b[0;34m=\u001b[0m\u001b[0mdtype\u001b[0m\u001b[0;34m,\u001b[0m \u001b[0morder\u001b[0m\u001b[0;34m=\u001b[0m\u001b[0morder\u001b[0m\u001b[0;34m,\u001b[0m \u001b[0mcopy\u001b[0m\u001b[0;34m=\u001b[0m\u001b[0mcopy\u001b[0m\u001b[0;34m)\u001b[0m\u001b[0;34m\u001b[0m\u001b[0m\n\u001b[0m\u001b[1;32m    383\u001b[0m \u001b[0;34m\u001b[0m\u001b[0m\n\u001b[1;32m    384\u001b[0m         \u001b[0;32mif\u001b[0m \u001b[0mensure_2d\u001b[0m\u001b[0;34m:\u001b[0m\u001b[0;34m\u001b[0m\u001b[0m\n",
      "\u001b[0;31mTypeError\u001b[0m: float() argument must be a string or a number, not 'dict'"
     ]
    }
   ],
   "source": [
    "from sklearn.tree import DecisionTreeClassifier\n",
    "tree = DecisionTreeClassifier(criterion=\"gini\")\n",
    "Xtrain = [x[0] for x in a]\n",
    "Ytrain = [x[1] for x in a]\n",
    "tree.fit(Xtrain, Ytrain)"
   ]
  },
  {
   "cell_type": "code",
   "execution_count": 71,
   "metadata": {},
   "outputs": [
    {
     "data": {
      "text/plain": [
       "{'Af Bij': 'Af',\n",
       " 'Bedrag (EUR)': '11,36',\n",
       " 'Categorie': 'boodschappen',\n",
       " 'Code': 'BA',\n",
       " 'Computer guessed': '',\n",
       " 'Datum': 20171208,\n",
       " 'Mededelingen': 'Pasvolgnr:002 07-12-2017 16:49 Transactie:4135Q2 Term:945N9N',\n",
       " 'MutatieSoort': 'Betaalautomaat',\n",
       " 'Naam / Omschrijving': 'Albert Heijn 1520 VEENENDAAL NLD',\n",
       " 'Rekening': 'NL94INGB0703873202',\n",
       " 'Tegenrekening': ''}"
      ]
     },
     "execution_count": 71,
     "metadata": {},
     "output_type": "execute_result"
    }
   ],
   "source": [
    "records[0]"
   ]
  },
  {
   "cell_type": "code",
   "execution_count": null,
   "metadata": {
    "collapsed": true
   },
   "outputs": [],
   "source": [
    "records[0].update"
   ]
  },
  {
   "cell_type": "code",
   "execution_count": null,
   "metadata": {
    "collapsed": true
   },
   "outputs": [],
   "source": [
    "\n",
    "# Extract and print all of the values\n",
    "records = sheet.get_all_records()\n",
    "traindata = list()\n",
    "\n",
    "def get_interesting_information(record):\n",
    "    return (record[\"Naam / Omschrijving\"], record[\"Categorie\"])\n",
    "for record in records:\n",
    "    if record[\"Categorie\"]:\n",
    "        traindata.append(get_interesting_information(record))\n",
    "#     print(record)\n",
    "print(len(traindata))"
   ]
  },
  {
   "cell_type": "code",
   "execution_count": 21,
   "metadata": {
    "collapsed": true
   },
   "outputs": [],
   "source": []
  },
  {
   "cell_type": "code",
   "execution_count": null,
   "metadata": {
    "collapsed": true
   },
   "outputs": [],
   "source": [
    "import random\n",
    "all_words = nltk.FreqDist(w.lower() for w in movie_reviews.words())\n",
    "word_features = list(all_words)[:2000]\n",
    "\n",
    "def document_features(document):\n",
    "    document_words = set(document)\n",
    "    features = {}\n",
    "    for word in word_features:\n",
    "        features['contains({})'.format(word)] = (word in document_words)\n",
    "    return features\n",
    "\n",
    "from nltk.corpus import movie_reviews\n",
    "documents = [(list(movie_reviews.words(fileid)), category)\n",
    "              for category in movie_reviews.categories()\n",
    "              for fileid in movie_reviews.fileids(category)]\n",
    "random.shuffle(documents)\n",
    "\n",
    "featuresets = [(document_features(d), c) for (d,c) in documents]\n",
    "train_set, test_set = featuresets[100:], featuresets[:100]\n",
    "classifier = nltk.NaiveBayesClassifier.train(train_set)"
   ]
  }
 ],
 "metadata": {
  "kernelspec": {
   "display_name": "Python 3",
   "language": "python",
   "name": "python3"
  },
  "language_info": {
   "codemirror_mode": {
    "name": "ipython",
    "version": 3
   },
   "file_extension": ".py",
   "mimetype": "text/x-python",
   "name": "python",
   "nbconvert_exporter": "python",
   "pygments_lexer": "ipython3",
   "version": "3.6.0"
  }
 },
 "nbformat": 4,
 "nbformat_minor": 2
}
